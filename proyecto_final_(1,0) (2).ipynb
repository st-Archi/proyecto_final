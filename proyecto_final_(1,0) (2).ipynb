{
  "nbformat": 4,
  "nbformat_minor": 0,
  "metadata": {
    "colab": {
      "provenance": []
    },
    "kernelspec": {
      "name": "python3",
      "display_name": "Python 3"
    },
    "language_info": {
      "name": "python"
    }
  },
  "cells": [
    {
      "cell_type": "markdown",
      "source": [
        "<H1>Archivo csv/base de datos</h1>\n",
        "https://drive.google.com/file/d/1XlZcKo45LdLOj56LbUgRB_lad4l0dssB/view?usp=drive_link.ipynb\n"
      ],
      "metadata": {
        "id": "JUhlebdWWGYz"
      }
    },
    {
      "cell_type": "code",
      "execution_count": 1,
      "metadata": {
        "colab": {
          "base_uri": "https://localhost:8080/"
        },
        "id": "SHfv29AZrFv3",
        "outputId": "737b01cb-a959-4d19-a770-b1f09afaf8ac"
      },
      "outputs": [
        {
          "output_type": "stream",
          "name": "stdout",
          "text": [
            "Mounted at /MIS_DATOS\n"
          ]
        }
      ],
      "source": [
        "#MONTAR mi GOOGLE DRIVE\n",
        "import pandas as pd\n",
        "from google.colab import drive\n",
        "drive.mount('/MIS_DATOS')"
      ]
    },
    {
      "cell_type": "code",
      "source": [
        "from google.colab import drive\n",
        "drive.mount('/content/drive')"
      ],
      "metadata": {
        "colab": {
          "base_uri": "https://localhost:8080/"
        },
        "id": "ShKZUsBXskxw",
        "outputId": "0e6669d7-5e10-46fc-be62-b90468a9a97e"
      },
      "execution_count": 2,
      "outputs": [
        {
          "output_type": "stream",
          "name": "stdout",
          "text": [
            "Mounted at /content/drive\n"
          ]
        }
      ]
    },
    {
      "cell_type": "code",
      "source": [
        "df = pd.read_csv('/content/drive/MyDrive/Colab Notebooks/Datos_simulados_NISSAN.csv')"
      ],
      "metadata": {
        "id": "iyRoPS4isV7W"
      },
      "execution_count": 3,
      "outputs": []
    },
    {
      "cell_type": "code",
      "source": [
        "df"
      ],
      "metadata": {
        "colab": {
          "base_uri": "https://localhost:8080/",
          "height": 990
        },
        "id": "rqPndTZRsikE",
        "outputId": "f38d1463-1b89-48c1-8850-cf5b445eed12"
      },
      "execution_count": 4,
      "outputs": [
        {
          "output_type": "execute_result",
          "data": {
            "text/plain": [
              "    dias  Productos_totales  Defectos\n",
              "0      1               3000        28\n",
              "1      2               3000        39\n",
              "2      3               3000        33\n",
              "3      4               3000        31\n",
              "4      5               3000        25\n",
              "5      6               3000        25\n",
              "6      7               3000        22\n",
              "7      8               3000        36\n",
              "8      9               3000        31\n",
              "9     10               3000        33\n",
              "10    11               3000        19\n",
              "11    12               3000        41\n",
              "12    13               3000        35\n",
              "13    14               3000        26\n",
              "14    15               3000        25\n",
              "15    16               3000        25\n",
              "16    17               3000        27\n",
              "17    18               3000        30\n",
              "18    19               3000        29\n",
              "19    20               3000        27\n",
              "20    21               3000        31\n",
              "21    22               3000        24\n",
              "22    23               3000        27\n",
              "23    24               3000        28\n",
              "24    25               3000        29\n",
              "25    26               3000        34\n",
              "26    27               3000        25\n",
              "27    28               3000        30\n",
              "28    29               3000        31\n",
              "29    30               3000        21"
            ],
            "text/html": [
              "\n",
              "  <div id=\"df-4756f926-0078-42cb-880b-f43c78525a7a\" class=\"colab-df-container\">\n",
              "    <div>\n",
              "<style scoped>\n",
              "    .dataframe tbody tr th:only-of-type {\n",
              "        vertical-align: middle;\n",
              "    }\n",
              "\n",
              "    .dataframe tbody tr th {\n",
              "        vertical-align: top;\n",
              "    }\n",
              "\n",
              "    .dataframe thead th {\n",
              "        text-align: right;\n",
              "    }\n",
              "</style>\n",
              "<table border=\"1\" class=\"dataframe\">\n",
              "  <thead>\n",
              "    <tr style=\"text-align: right;\">\n",
              "      <th></th>\n",
              "      <th>dias</th>\n",
              "      <th>Productos_totales</th>\n",
              "      <th>Defectos</th>\n",
              "    </tr>\n",
              "  </thead>\n",
              "  <tbody>\n",
              "    <tr>\n",
              "      <th>0</th>\n",
              "      <td>1</td>\n",
              "      <td>3000</td>\n",
              "      <td>28</td>\n",
              "    </tr>\n",
              "    <tr>\n",
              "      <th>1</th>\n",
              "      <td>2</td>\n",
              "      <td>3000</td>\n",
              "      <td>39</td>\n",
              "    </tr>\n",
              "    <tr>\n",
              "      <th>2</th>\n",
              "      <td>3</td>\n",
              "      <td>3000</td>\n",
              "      <td>33</td>\n",
              "    </tr>\n",
              "    <tr>\n",
              "      <th>3</th>\n",
              "      <td>4</td>\n",
              "      <td>3000</td>\n",
              "      <td>31</td>\n",
              "    </tr>\n",
              "    <tr>\n",
              "      <th>4</th>\n",
              "      <td>5</td>\n",
              "      <td>3000</td>\n",
              "      <td>25</td>\n",
              "    </tr>\n",
              "    <tr>\n",
              "      <th>5</th>\n",
              "      <td>6</td>\n",
              "      <td>3000</td>\n",
              "      <td>25</td>\n",
              "    </tr>\n",
              "    <tr>\n",
              "      <th>6</th>\n",
              "      <td>7</td>\n",
              "      <td>3000</td>\n",
              "      <td>22</td>\n",
              "    </tr>\n",
              "    <tr>\n",
              "      <th>7</th>\n",
              "      <td>8</td>\n",
              "      <td>3000</td>\n",
              "      <td>36</td>\n",
              "    </tr>\n",
              "    <tr>\n",
              "      <th>8</th>\n",
              "      <td>9</td>\n",
              "      <td>3000</td>\n",
              "      <td>31</td>\n",
              "    </tr>\n",
              "    <tr>\n",
              "      <th>9</th>\n",
              "      <td>10</td>\n",
              "      <td>3000</td>\n",
              "      <td>33</td>\n",
              "    </tr>\n",
              "    <tr>\n",
              "      <th>10</th>\n",
              "      <td>11</td>\n",
              "      <td>3000</td>\n",
              "      <td>19</td>\n",
              "    </tr>\n",
              "    <tr>\n",
              "      <th>11</th>\n",
              "      <td>12</td>\n",
              "      <td>3000</td>\n",
              "      <td>41</td>\n",
              "    </tr>\n",
              "    <tr>\n",
              "      <th>12</th>\n",
              "      <td>13</td>\n",
              "      <td>3000</td>\n",
              "      <td>35</td>\n",
              "    </tr>\n",
              "    <tr>\n",
              "      <th>13</th>\n",
              "      <td>14</td>\n",
              "      <td>3000</td>\n",
              "      <td>26</td>\n",
              "    </tr>\n",
              "    <tr>\n",
              "      <th>14</th>\n",
              "      <td>15</td>\n",
              "      <td>3000</td>\n",
              "      <td>25</td>\n",
              "    </tr>\n",
              "    <tr>\n",
              "      <th>15</th>\n",
              "      <td>16</td>\n",
              "      <td>3000</td>\n",
              "      <td>25</td>\n",
              "    </tr>\n",
              "    <tr>\n",
              "      <th>16</th>\n",
              "      <td>17</td>\n",
              "      <td>3000</td>\n",
              "      <td>27</td>\n",
              "    </tr>\n",
              "    <tr>\n",
              "      <th>17</th>\n",
              "      <td>18</td>\n",
              "      <td>3000</td>\n",
              "      <td>30</td>\n",
              "    </tr>\n",
              "    <tr>\n",
              "      <th>18</th>\n",
              "      <td>19</td>\n",
              "      <td>3000</td>\n",
              "      <td>29</td>\n",
              "    </tr>\n",
              "    <tr>\n",
              "      <th>19</th>\n",
              "      <td>20</td>\n",
              "      <td>3000</td>\n",
              "      <td>27</td>\n",
              "    </tr>\n",
              "    <tr>\n",
              "      <th>20</th>\n",
              "      <td>21</td>\n",
              "      <td>3000</td>\n",
              "      <td>31</td>\n",
              "    </tr>\n",
              "    <tr>\n",
              "      <th>21</th>\n",
              "      <td>22</td>\n",
              "      <td>3000</td>\n",
              "      <td>24</td>\n",
              "    </tr>\n",
              "    <tr>\n",
              "      <th>22</th>\n",
              "      <td>23</td>\n",
              "      <td>3000</td>\n",
              "      <td>27</td>\n",
              "    </tr>\n",
              "    <tr>\n",
              "      <th>23</th>\n",
              "      <td>24</td>\n",
              "      <td>3000</td>\n",
              "      <td>28</td>\n",
              "    </tr>\n",
              "    <tr>\n",
              "      <th>24</th>\n",
              "      <td>25</td>\n",
              "      <td>3000</td>\n",
              "      <td>29</td>\n",
              "    </tr>\n",
              "    <tr>\n",
              "      <th>25</th>\n",
              "      <td>26</td>\n",
              "      <td>3000</td>\n",
              "      <td>34</td>\n",
              "    </tr>\n",
              "    <tr>\n",
              "      <th>26</th>\n",
              "      <td>27</td>\n",
              "      <td>3000</td>\n",
              "      <td>25</td>\n",
              "    </tr>\n",
              "    <tr>\n",
              "      <th>27</th>\n",
              "      <td>28</td>\n",
              "      <td>3000</td>\n",
              "      <td>30</td>\n",
              "    </tr>\n",
              "    <tr>\n",
              "      <th>28</th>\n",
              "      <td>29</td>\n",
              "      <td>3000</td>\n",
              "      <td>31</td>\n",
              "    </tr>\n",
              "    <tr>\n",
              "      <th>29</th>\n",
              "      <td>30</td>\n",
              "      <td>3000</td>\n",
              "      <td>21</td>\n",
              "    </tr>\n",
              "  </tbody>\n",
              "</table>\n",
              "</div>\n",
              "    <div class=\"colab-df-buttons\">\n",
              "\n",
              "  <div class=\"colab-df-container\">\n",
              "    <button class=\"colab-df-convert\" onclick=\"convertToInteractive('df-4756f926-0078-42cb-880b-f43c78525a7a')\"\n",
              "            title=\"Convert this dataframe to an interactive table.\"\n",
              "            style=\"display:none;\">\n",
              "\n",
              "  <svg xmlns=\"http://www.w3.org/2000/svg\" height=\"24px\" viewBox=\"0 -960 960 960\">\n",
              "    <path d=\"M120-120v-720h720v720H120Zm60-500h600v-160H180v160Zm220 220h160v-160H400v160Zm0 220h160v-160H400v160ZM180-400h160v-160H180v160Zm440 0h160v-160H620v160ZM180-180h160v-160H180v160Zm440 0h160v-160H620v160Z\"/>\n",
              "  </svg>\n",
              "    </button>\n",
              "\n",
              "  <style>\n",
              "    .colab-df-container {\n",
              "      display:flex;\n",
              "      gap: 12px;\n",
              "    }\n",
              "\n",
              "    .colab-df-convert {\n",
              "      background-color: #E8F0FE;\n",
              "      border: none;\n",
              "      border-radius: 50%;\n",
              "      cursor: pointer;\n",
              "      display: none;\n",
              "      fill: #1967D2;\n",
              "      height: 32px;\n",
              "      padding: 0 0 0 0;\n",
              "      width: 32px;\n",
              "    }\n",
              "\n",
              "    .colab-df-convert:hover {\n",
              "      background-color: #E2EBFA;\n",
              "      box-shadow: 0px 1px 2px rgba(60, 64, 67, 0.3), 0px 1px 3px 1px rgba(60, 64, 67, 0.15);\n",
              "      fill: #174EA6;\n",
              "    }\n",
              "\n",
              "    .colab-df-buttons div {\n",
              "      margin-bottom: 4px;\n",
              "    }\n",
              "\n",
              "    [theme=dark] .colab-df-convert {\n",
              "      background-color: #3B4455;\n",
              "      fill: #D2E3FC;\n",
              "    }\n",
              "\n",
              "    [theme=dark] .colab-df-convert:hover {\n",
              "      background-color: #434B5C;\n",
              "      box-shadow: 0px 1px 3px 1px rgba(0, 0, 0, 0.15);\n",
              "      filter: drop-shadow(0px 1px 2px rgba(0, 0, 0, 0.3));\n",
              "      fill: #FFFFFF;\n",
              "    }\n",
              "  </style>\n",
              "\n",
              "    <script>\n",
              "      const buttonEl =\n",
              "        document.querySelector('#df-4756f926-0078-42cb-880b-f43c78525a7a button.colab-df-convert');\n",
              "      buttonEl.style.display =\n",
              "        google.colab.kernel.accessAllowed ? 'block' : 'none';\n",
              "\n",
              "      async function convertToInteractive(key) {\n",
              "        const element = document.querySelector('#df-4756f926-0078-42cb-880b-f43c78525a7a');\n",
              "        const dataTable =\n",
              "          await google.colab.kernel.invokeFunction('convertToInteractive',\n",
              "                                                    [key], {});\n",
              "        if (!dataTable) return;\n",
              "\n",
              "        const docLinkHtml = 'Like what you see? Visit the ' +\n",
              "          '<a target=\"_blank\" href=https://colab.research.google.com/notebooks/data_table.ipynb>data table notebook</a>'\n",
              "          + ' to learn more about interactive tables.';\n",
              "        element.innerHTML = '';\n",
              "        dataTable['output_type'] = 'display_data';\n",
              "        await google.colab.output.renderOutput(dataTable, element);\n",
              "        const docLink = document.createElement('div');\n",
              "        docLink.innerHTML = docLinkHtml;\n",
              "        element.appendChild(docLink);\n",
              "      }\n",
              "    </script>\n",
              "  </div>\n",
              "\n",
              "\n",
              "<div id=\"df-aa7f9d32-5d5f-450e-a7f7-2e19f3a6bab3\">\n",
              "  <button class=\"colab-df-quickchart\" onclick=\"quickchart('df-aa7f9d32-5d5f-450e-a7f7-2e19f3a6bab3')\"\n",
              "            title=\"Suggest charts\"\n",
              "            style=\"display:none;\">\n",
              "\n",
              "<svg xmlns=\"http://www.w3.org/2000/svg\" height=\"24px\"viewBox=\"0 0 24 24\"\n",
              "     width=\"24px\">\n",
              "    <g>\n",
              "        <path d=\"M19 3H5c-1.1 0-2 .9-2 2v14c0 1.1.9 2 2 2h14c1.1 0 2-.9 2-2V5c0-1.1-.9-2-2-2zM9 17H7v-7h2v7zm4 0h-2V7h2v10zm4 0h-2v-4h2v4z\"/>\n",
              "    </g>\n",
              "</svg>\n",
              "  </button>\n",
              "\n",
              "<style>\n",
              "  .colab-df-quickchart {\n",
              "      --bg-color: #E8F0FE;\n",
              "      --fill-color: #1967D2;\n",
              "      --hover-bg-color: #E2EBFA;\n",
              "      --hover-fill-color: #174EA6;\n",
              "      --disabled-fill-color: #AAA;\n",
              "      --disabled-bg-color: #DDD;\n",
              "  }\n",
              "\n",
              "  [theme=dark] .colab-df-quickchart {\n",
              "      --bg-color: #3B4455;\n",
              "      --fill-color: #D2E3FC;\n",
              "      --hover-bg-color: #434B5C;\n",
              "      --hover-fill-color: #FFFFFF;\n",
              "      --disabled-bg-color: #3B4455;\n",
              "      --disabled-fill-color: #666;\n",
              "  }\n",
              "\n",
              "  .colab-df-quickchart {\n",
              "    background-color: var(--bg-color);\n",
              "    border: none;\n",
              "    border-radius: 50%;\n",
              "    cursor: pointer;\n",
              "    display: none;\n",
              "    fill: var(--fill-color);\n",
              "    height: 32px;\n",
              "    padding: 0;\n",
              "    width: 32px;\n",
              "  }\n",
              "\n",
              "  .colab-df-quickchart:hover {\n",
              "    background-color: var(--hover-bg-color);\n",
              "    box-shadow: 0 1px 2px rgba(60, 64, 67, 0.3), 0 1px 3px 1px rgba(60, 64, 67, 0.15);\n",
              "    fill: var(--button-hover-fill-color);\n",
              "  }\n",
              "\n",
              "  .colab-df-quickchart-complete:disabled,\n",
              "  .colab-df-quickchart-complete:disabled:hover {\n",
              "    background-color: var(--disabled-bg-color);\n",
              "    fill: var(--disabled-fill-color);\n",
              "    box-shadow: none;\n",
              "  }\n",
              "\n",
              "  .colab-df-spinner {\n",
              "    border: 2px solid var(--fill-color);\n",
              "    border-color: transparent;\n",
              "    border-bottom-color: var(--fill-color);\n",
              "    animation:\n",
              "      spin 1s steps(1) infinite;\n",
              "  }\n",
              "\n",
              "  @keyframes spin {\n",
              "    0% {\n",
              "      border-color: transparent;\n",
              "      border-bottom-color: var(--fill-color);\n",
              "      border-left-color: var(--fill-color);\n",
              "    }\n",
              "    20% {\n",
              "      border-color: transparent;\n",
              "      border-left-color: var(--fill-color);\n",
              "      border-top-color: var(--fill-color);\n",
              "    }\n",
              "    30% {\n",
              "      border-color: transparent;\n",
              "      border-left-color: var(--fill-color);\n",
              "      border-top-color: var(--fill-color);\n",
              "      border-right-color: var(--fill-color);\n",
              "    }\n",
              "    40% {\n",
              "      border-color: transparent;\n",
              "      border-right-color: var(--fill-color);\n",
              "      border-top-color: var(--fill-color);\n",
              "    }\n",
              "    60% {\n",
              "      border-color: transparent;\n",
              "      border-right-color: var(--fill-color);\n",
              "    }\n",
              "    80% {\n",
              "      border-color: transparent;\n",
              "      border-right-color: var(--fill-color);\n",
              "      border-bottom-color: var(--fill-color);\n",
              "    }\n",
              "    90% {\n",
              "      border-color: transparent;\n",
              "      border-bottom-color: var(--fill-color);\n",
              "    }\n",
              "  }\n",
              "</style>\n",
              "\n",
              "  <script>\n",
              "    async function quickchart(key) {\n",
              "      const quickchartButtonEl =\n",
              "        document.querySelector('#' + key + ' button');\n",
              "      quickchartButtonEl.disabled = true;  // To prevent multiple clicks.\n",
              "      quickchartButtonEl.classList.add('colab-df-spinner');\n",
              "      try {\n",
              "        const charts = await google.colab.kernel.invokeFunction(\n",
              "            'suggestCharts', [key], {});\n",
              "      } catch (error) {\n",
              "        console.error('Error during call to suggestCharts:', error);\n",
              "      }\n",
              "      quickchartButtonEl.classList.remove('colab-df-spinner');\n",
              "      quickchartButtonEl.classList.add('colab-df-quickchart-complete');\n",
              "    }\n",
              "    (() => {\n",
              "      let quickchartButtonEl =\n",
              "        document.querySelector('#df-aa7f9d32-5d5f-450e-a7f7-2e19f3a6bab3 button');\n",
              "      quickchartButtonEl.style.display =\n",
              "        google.colab.kernel.accessAllowed ? 'block' : 'none';\n",
              "    })();\n",
              "  </script>\n",
              "</div>\n",
              "\n",
              "  <div id=\"id_fda272e5-3ed8-4dbd-83c7-3d291887ae35\">\n",
              "    <style>\n",
              "      .colab-df-generate {\n",
              "        background-color: #E8F0FE;\n",
              "        border: none;\n",
              "        border-radius: 50%;\n",
              "        cursor: pointer;\n",
              "        display: none;\n",
              "        fill: #1967D2;\n",
              "        height: 32px;\n",
              "        padding: 0 0 0 0;\n",
              "        width: 32px;\n",
              "      }\n",
              "\n",
              "      .colab-df-generate:hover {\n",
              "        background-color: #E2EBFA;\n",
              "        box-shadow: 0px 1px 2px rgba(60, 64, 67, 0.3), 0px 1px 3px 1px rgba(60, 64, 67, 0.15);\n",
              "        fill: #174EA6;\n",
              "      }\n",
              "\n",
              "      [theme=dark] .colab-df-generate {\n",
              "        background-color: #3B4455;\n",
              "        fill: #D2E3FC;\n",
              "      }\n",
              "\n",
              "      [theme=dark] .colab-df-generate:hover {\n",
              "        background-color: #434B5C;\n",
              "        box-shadow: 0px 1px 3px 1px rgba(0, 0, 0, 0.15);\n",
              "        filter: drop-shadow(0px 1px 2px rgba(0, 0, 0, 0.3));\n",
              "        fill: #FFFFFF;\n",
              "      }\n",
              "    </style>\n",
              "    <button class=\"colab-df-generate\" onclick=\"generateWithVariable('df')\"\n",
              "            title=\"Generate code using this dataframe.\"\n",
              "            style=\"display:none;\">\n",
              "\n",
              "  <svg xmlns=\"http://www.w3.org/2000/svg\" height=\"24px\"viewBox=\"0 0 24 24\"\n",
              "       width=\"24px\">\n",
              "    <path d=\"M7,19H8.4L18.45,9,17,7.55,7,17.6ZM5,21V16.75L18.45,3.32a2,2,0,0,1,2.83,0l1.4,1.43a1.91,1.91,0,0,1,.58,1.4,1.91,1.91,0,0,1-.58,1.4L9.25,21ZM18.45,9,17,7.55Zm-12,3A5.31,5.31,0,0,0,4.9,8.1,5.31,5.31,0,0,0,1,6.5,5.31,5.31,0,0,0,4.9,4.9,5.31,5.31,0,0,0,6.5,1,5.31,5.31,0,0,0,8.1,4.9,5.31,5.31,0,0,0,12,6.5,5.46,5.46,0,0,0,6.5,12Z\"/>\n",
              "  </svg>\n",
              "    </button>\n",
              "    <script>\n",
              "      (() => {\n",
              "      const buttonEl =\n",
              "        document.querySelector('#id_fda272e5-3ed8-4dbd-83c7-3d291887ae35 button.colab-df-generate');\n",
              "      buttonEl.style.display =\n",
              "        google.colab.kernel.accessAllowed ? 'block' : 'none';\n",
              "\n",
              "      buttonEl.onclick = () => {\n",
              "        google.colab.notebook.generateWithVariable('df');\n",
              "      }\n",
              "      })();\n",
              "    </script>\n",
              "  </div>\n",
              "\n",
              "    </div>\n",
              "  </div>\n"
            ],
            "application/vnd.google.colaboratory.intrinsic+json": {
              "type": "dataframe",
              "variable_name": "df",
              "summary": "{\n  \"name\": \"df\",\n  \"rows\": 30,\n  \"fields\": [\n    {\n      \"column\": \"dias\",\n      \"properties\": {\n        \"dtype\": \"number\",\n        \"std\": 8,\n        \"min\": 1,\n        \"max\": 30,\n        \"num_unique_values\": 30,\n        \"samples\": [\n          28,\n          16,\n          24\n        ],\n        \"semantic_type\": \"\",\n        \"description\": \"\"\n      }\n    },\n    {\n      \"column\": \"Productos_totales\",\n      \"properties\": {\n        \"dtype\": \"number\",\n        \"std\": 0,\n        \"min\": 3000,\n        \"max\": 3000,\n        \"num_unique_values\": 1,\n        \"samples\": [\n          3000\n        ],\n        \"semantic_type\": \"\",\n        \"description\": \"\"\n      }\n    },\n    {\n      \"column\": \"Defectos\",\n      \"properties\": {\n        \"dtype\": \"number\",\n        \"std\": 5,\n        \"min\": 19,\n        \"max\": 41,\n        \"num_unique_values\": 17,\n        \"samples\": [\n          28\n        ],\n        \"semantic_type\": \"\",\n        \"description\": \"\"\n      }\n    }\n  ]\n}"
            }
          },
          "metadata": {},
          "execution_count": 4
        }
      ]
    },
    {
      "cell_type": "markdown",
      "source": [
        "\n",
        "<H1>1. Introducción a la distribución normal y su aplicación en cálculo de probabilidades.</h1>\n",
        "\n"
      ],
      "metadata": {
        "id": "1Q3XrhmvUqjk"
      }
    },
    {
      "cell_type": "code",
      "source": [
        "from google.colab import drive\n",
        "from scipy.stats import f_oneway\n",
        "from scipy.stats import pearsonr\n",
        "from sklearn.linear_model import LinearRegression\n",
        "import pandas as pd\n",
        "import scipy.stats as stats\n",
        "import numpy as np\n",
        "import matplotlib.pyplot as plt\n",
        "import seaborn as sns\n",
        "from statsmodels.graphics.tsaplots import plot_acf\n",
        "from statsmodels.tsa.stattools import adfuller\n",
        "import statsmodels.api as sm\n",
        "\n",
        "\n",
        "\n",
        "# Montar Google Drive\n",
        "#drive.mount('/content/drive')\n",
        "\n",
        "# Ruta del archivo\n",
        "ruta_archivo = '/content/drive/MyDrive/Colab Notebooks/Datos_simulados_NISSAN.csv'\n",
        "\n",
        "# Leer el archivo\n",
        "df = pd.read_csv(ruta_archivo)\n",
        "\n",
        "# Seleccionar la columna 'altura'\n",
        "columna_a_analizar = 'Defectos'\n",
        "datos = df[columna_a_analizar]\n",
        "\n",
        "# Prueba de Shapiro-Wilk\n",
        "stat, p = stats.shapiro(datos)\n",
        "print('Estadístico de prueba:', stat)\n",
        "print('\\np-valor:', p)\n",
        "\n",
        "# Interpretación\n",
        "alpha = 0.05\n",
        "if p > alpha:\n",
        "    print(\"\\nLos datos de 'Defectos' provienen de una distribución aproximadamente normal.\")\n",
        "else:\n",
        "    print(\"\\nLos datos de 'Defectos' no provienen de una distribución normal.\")"
      ],
      "metadata": {
        "colab": {
          "base_uri": "https://localhost:8080/"
        },
        "id": "wrkdwYo7Urcq",
        "outputId": "205e9421-244c-4ae9-8180-932ea1a942a1"
      },
      "execution_count": 5,
      "outputs": [
        {
          "output_type": "stream",
          "name": "stdout",
          "text": [
            "Estadístico de prueba: 0.9793734870286207\n",
            "\n",
            "p-valor: 0.8086583086193927\n",
            "\n",
            "Los datos de 'Defectos' provienen de una distribución aproximadamente normal.\n"
          ]
        }
      ]
    },
    {
      "cell_type": "markdown",
      "source": [
        "<H1>2.\tEstimación y cálculo de intervalos de confianza.</h1>"
      ],
      "metadata": {
        "id": "zV3jgZbmtyH1"
      }
    },
    {
      "cell_type": "code",
      "source": [
        "# Estimación puntual (media)\n",
        "media = datos.mean()\n",
        "print('\\nEstimación puntual (media):', media)\n",
        "\n",
        "# Intervalo de confianza del 95%\n",
        "intervalo_confianza = stats.t.interval(0.95, len(datos)-1, loc=media, scale=stats.sem(datos))\n",
        "print('\\nIntervalo de confianza del 95%:', intervalo_confianza)"
      ],
      "metadata": {
        "colab": {
          "base_uri": "https://localhost:8080/"
        },
        "id": "HH6bnPzcujmm",
        "outputId": "13d2d3a7-10c5-44c0-e054-c8850042bcdc"
      },
      "execution_count": 6,
      "outputs": [
        {
          "output_type": "stream",
          "name": "stdout",
          "text": [
            "\n",
            "Estimación puntual (media): 28.9\n",
            "\n",
            "Intervalo de confianza del 95%: (27.00777346194086, 30.792226538059136)\n"
          ]
        }
      ]
    },
    {
      "cell_type": "markdown",
      "source": [
        "<H1>3.\tInferencia sobre medias y pruebas de hipótesis.</h1>"
      ],
      "metadata": {
        "id": "0YE3KcfYuLHM"
      }
    },
    {
      "cell_type": "code",
      "source": [
        "#promedio historico\n",
        "mu_0 = 30\n",
        "\n",
        "#la prueba t, se compara la media muestral con el promedio histórico\n",
        "t_stat, p_value = stats.ttest_1samp(datos, mu_0)\n",
        "print('\\nEstadístico t:', t_stat)\n",
        "print('\\np-valor:', p_value)\n",
        "\n",
        "#se compara el valor p con el nivel de significancia alpha para saber si se rechaza o no la hipótesis nula.\n",
        "if p_value < alpha:\n",
        "    print(\"\\nRechazamos la hipótesis nula. El promedio de defectos ha cambiado.\")\n",
        "else:\n",
        "    print(\"\\nNo rechazamos la hipótesis nula. No hay evidencia suficiente para decir que el promedio de defectos ha cambiado.\")\n"
      ],
      "metadata": {
        "colab": {
          "base_uri": "https://localhost:8080/"
        },
        "id": "tssFyArTujYs",
        "outputId": "d17ea151-4a10-4ae1-f577-51f6312d22c5"
      },
      "execution_count": 7,
      "outputs": [
        {
          "output_type": "stream",
          "name": "stdout",
          "text": [
            "\n",
            "Estadístico t: -1.1889446433055273\n",
            "\n",
            "p-valor: 0.24410617255410072\n",
            "\n",
            "No rechazamos la hipótesis nula. No hay evidencia suficiente para decir que el promedio de defectos ha cambiado.\n"
          ]
        }
      ]
    },
    {
      "cell_type": "markdown",
      "source": [
        "<H1>4.\tAnálisis de desviaciones estándar y pruebas relacionadas.</h1>"
      ],
      "metadata": {
        "id": "kseGxanOuM3V"
      }
    },
    {
      "cell_type": "code",
      "source": [
        "#Desviación estándar\n",
        "desv_est = np.std(datos)\n",
        "print('\\nDesviación estándar:', desv_est)\n",
        "\n",
        "#Variancia\n",
        "var = np.var(datos)\n",
        "print('\\nVarianza:', var)\n",
        "\n",
        "#Coeficiente de variación\n",
        "coef_var = desv_est / media\n",
        "print('\\nCoeficiente de variación:', coef_var)"
      ],
      "metadata": {
        "colab": {
          "base_uri": "https://localhost:8080/"
        },
        "id": "XjVnasgiujOc",
        "outputId": "992517e2-d137-444b-bdb3-33f8478edd4d"
      },
      "execution_count": 8,
      "outputs": [
        {
          "output_type": "stream",
          "name": "stdout",
          "text": [
            "\n",
            "Desviación estándar: 4.982302011453474\n",
            "\n",
            "Varianza: 24.823333333333338\n",
            "\n",
            "Coeficiente de variación: 0.17239799347589876\n"
          ]
        }
      ]
    },
    {
      "cell_type": "markdown",
      "source": [
        "<H1>5.\tAnálisis de varianza (ANOVA).</h1>"
      ],
      "metadata": {
        "id": "ocdXC3A-uNln"
      }
    },
    {
      "cell_type": "code",
      "source": [
        "#ANOVA\n",
        "semana1=df[columna_a_analizar][0:8]\n",
        "semana2=df[columna_a_analizar][8:15]\n",
        "semana3=df[columna_a_analizar][15:22]\n",
        "semana4=df[columna_a_analizar][22:30]\n",
        "\n",
        "_, Pvalue= f_oneway(semana1,semana2,semana3,semana4)\n",
        "print (\"\\nAnálisis ANOVA:\",Pvalue)"
      ],
      "metadata": {
        "colab": {
          "base_uri": "https://localhost:8080/"
        },
        "id": "9AMaUrfAujBU",
        "outputId": "709b0bca-07da-47bb-d604-d0874b6a9dc4"
      },
      "execution_count": 9,
      "outputs": [
        {
          "output_type": "stream",
          "name": "stdout",
          "text": [
            "\n",
            "Análisis ANOVA: 0.7507400361825515\n"
          ]
        }
      ]
    },
    {
      "cell_type": "markdown",
      "source": [
        "<H1>6.\tCorrelación y regresión lineal.</h1>"
      ],
      "metadata": {
        "id": "sk9_5g1wuOI0"
      }
    },
    {
      "cell_type": "code",
      "source": [
        "#Correlación\n",
        "columna_a_analizar_ = 'dias'\n",
        "datos2 = df[columna_a_analizar_]\n",
        "corr, _ = pearsonr(datos, datos2)\n",
        "print('\\nCorrelación de lotes y defectos: %.3f' % corr,\"\\n\")\n",
        "\n",
        "#Regresión lineal\n",
        "X = df['dias'].values.reshape(-1, 1)\n",
        "y = df['Defectos'].values\n",
        "modelo = LinearRegression()\n",
        "modelo.fit(X, y)\n",
        "y_pred = modelo.predict(X)\n",
        "plt.scatter(X, y, color='blue', label='Datos reales')\n",
        "plt.plot(X, y_pred, color='red', label='Línea de regresión')\n",
        "plt.xlabel('dias')\n",
        "plt.ylabel('Defectos')\n",
        "plt.title('Regresión Lineal entre Lote y Defectos')\n",
        "plt.legend()\n",
        "plt.show()"
      ],
      "metadata": {
        "colab": {
          "base_uri": "https://localhost:8080/",
          "height": 524
        },
        "id": "OhErX1sXui3E",
        "outputId": "8f70d006-3bf2-4c91-9477-ce8ef39a06e7"
      },
      "execution_count": 10,
      "outputs": [
        {
          "output_type": "stream",
          "name": "stdout",
          "text": [
            "\n",
            "Correlación de lotes y defectos: -0.211 \n",
            "\n"
          ]
        },
        {
          "output_type": "display_data",
          "data": {
            "text/plain": [
              "<Figure size 640x480 with 1 Axes>"
            ],
            "image/png": "[encoded data removed]"
          },
          "metadata": {}
        }
      ]
    },
    {
      "cell_type": "markdown",
      "source": [
        "<H1>7.\tAnálisis de series de tiempo.</h1>"
      ],
      "metadata": {
        "id": "EPx59Jh7uOmm"
      }
    },
    {
      "cell_type": "code",
      "source": [
        "# reading the dataset using read_csv\n",
        "df = pd.read_csv(\"/content/drive/MyDrive/Colab Notebooks/Datos_simulados_NISSAN.csv\",\n",
        "\t\t\t\tparse_dates=True,\n",
        "\t\t\t\tindex_col=\"dias\")\n",
        "\n",
        "# BORRAR COLUMNA DE NOMBRE PARA PROCESARLA\n",
        "df.drop(columns='Productos_totales', inplace =True)\n",
        "df\n",
        "\n",
        "# SERIES DE TIEMPO EN GRAFICA DE LINEAS\n",
        "sns.set(style=\"whitegrid\") # FONDO de  Gràfica Blanco\n",
        "\n",
        "plt.figure(figsize=(8, 4)) # Setting the figure size\n",
        "sns.lineplot(data=df, x='dias', y='Defectos', label='Productos_totales', color='blue')\n",
        "\n",
        "#titulo y lineas\n",
        "plt.xlabel('dias')\n",
        "plt.ylabel('Defectos')\n",
        "plt.title('Productos totales')\n",
        "plt.show()\n",
        "\n",
        "# Para observar cambios abruptos entre observaciones o muestras.\n",
        "df['dias'] = df['Defectos'].diff()\n",
        "\n",
        "\n",
        "#salto de linea\n",
        "print(\"\\n\")\n",
        "\n",
        "\n",
        "# grafica\n",
        "plt.figure(figsize=(8, 6))\n",
        "plt.plot(df['Defectos'], label='Original High', color='blue')\n",
        "plt.plot(df['dias'], label='Differenced High', linestyle='--', color='green')\n",
        "plt.legend()\n",
        "plt.title('Original vs Differenced High')\n",
        "plt.show()\n"
      ],
      "metadata": {
        "colab": {
          "base_uri": "https://localhost:8080/",
          "height": 1000
        },
        "id": "KhGI4cY6_fsu",
        "outputId": "9a675983-4aa8-4e38-b139-12ac416f66d1"
      },
      "execution_count": 11,
      "outputs": [
        {
          "output_type": "stream",
          "name": "stderr",
          "text": [
            "<ipython-input-11-b1c058f4bfd7>:2: UserWarning: Could not infer format, so each element will be parsed individually, falling back to `dateutil`. To ensure parsing is consistent and as-expected, please specify a format.\n",
            "  df = pd.read_csv(\"/content/drive/MyDrive/Colab Notebooks/Datos_simulados_NISSAN.csv\",\n"
          ]
        },
        {
          "output_type": "display_data",
          "data": {
            "text/plain": [
              "<Figure size 800x400 with 1 Axes>"
            ],
            "image/png": "[encoded data removed]"
          },
          "metadata": {}
        },
        {
          "output_type": "stream",
          "name": "stdout",
          "text": [
            "\n",
            "\n"
          ]
        },
        {
          "output_type": "display_data",
          "data": {
            "text/plain": [
              "<Figure size 800x600 with 1 Axes>"
            ],
            "image/png": "[encoded data removed]"
          },
          "metadata": {}
        }
      ]
    }
  ]
}